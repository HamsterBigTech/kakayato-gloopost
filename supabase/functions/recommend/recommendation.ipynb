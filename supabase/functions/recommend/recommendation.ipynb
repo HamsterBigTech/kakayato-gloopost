{
  "nbformat": 4,
  "nbformat_minor": 0,
  "metadata": {
    "colab": {
      "provenance": []
    },
    "kernelspec": {
      "name": "python3",
      "display_name": "Python 3"
    },
    "language_info": {
      "name": "python"
    }
  },
  "cells": [
    {
      "cell_type": "code",
      "execution_count": 48,
      "metadata": {
        "id": "zQIfXbkngzn9"
      },
      "outputs": [],
      "source": [
        "import numpy as np\n",
        "import pandas as pd\n",
        "\n",
        "from sklearn.metrics.pairwise import cosine_similarity\n",
        "\n",
        "import warnings\n",
        "warnings.filterwarnings('ignore')"
      ]
    },
    {
      "cell_type": "code",
      "source": [
        "books_data = pd.read_csv('Books.csv')\n",
        "users_data = pd.read_csv('Users.csv')\n",
        "ratings_data = pd.read_csv('Ratings.csv')"
      ],
      "metadata": {
        "id": "X2FLEeS0h-0a"
      },
      "execution_count": 49,
      "outputs": []
    },
    {
      "cell_type": "code",
      "source": [
        "ratings_with_name = ratings_data.merge(books_data, on='ISBN')"
      ],
      "metadata": {
        "id": "arCh7FNJi55a"
      },
      "execution_count": 50,
      "outputs": []
    },
    {
      "cell_type": "code",
      "source": [
        "temp_mask = ratings_with_name.groupby('User-ID').count()['Book-Rating'] > 200\n",
        "literate_users = temp_mask[temp_mask].index"
      ],
      "metadata": {
        "id": "87xZAcL5ogUT"
      },
      "execution_count": 51,
      "outputs": []
    },
    {
      "cell_type": "code",
      "source": [
        "filtered_rating = ratings_with_name[ratings_with_name['User-ID'].isin(literate_users)]"
      ],
      "metadata": {
        "id": "2FaHxiFYogQ3"
      },
      "execution_count": 52,
      "outputs": []
    },
    {
      "cell_type": "code",
      "source": [
        "temp_mask = filtered_rating.groupby('Book-Title').count()['Book-Rating'] >= 50\n",
        "famous_books = temp_mask[temp_mask].index"
      ],
      "metadata": {
        "id": "9iSKKmvbogNu"
      },
      "execution_count": 53,
      "outputs": []
    },
    {
      "cell_type": "code",
      "source": [
        "final_ratings = filtered_rating[filtered_rating['Book-Title'].isin(famous_books)]"
      ],
      "metadata": {
        "id": "eMid0xNTogKq"
      },
      "execution_count": 54,
      "outputs": []
    },
    {
      "cell_type": "code",
      "source": [
        "item_user_interaction_matrix = final_ratings.pivot_table(index='Book-Title', columns='User-ID', values='Book-Rating')\n",
        "item_user_interaction_matrix.fillna(0, inplace=True)"
      ],
      "metadata": {
        "id": "5ItAidDaogHn"
      },
      "execution_count": 55,
      "outputs": []
    },
    {
      "cell_type": "code",
      "source": [
        "famous_books_dict = {\n",
        "  'title': [],\n",
        "  'author': [],\n",
        "  'image': [],\n",
        "}\n",
        "\n",
        "for _, data in item_user_interaction_matrix.index.to_frame(index=False).iterrows():\n",
        "  title = data.values[0]\n",
        "  temp_df = books_data[books_data['Book-Title'] == title]\n",
        "  author = temp_df.drop_duplicates('Book-Title')['Book-Author'].values[0]\n",
        "  icon = temp_df.drop_duplicates('Book-Title')['Image-URL-M'].values[0]\n",
        "\n",
        "  famous_books_dict['title'].append(title)\n",
        "  famous_books_dict['author'].append(author)\n",
        "  famous_books_dict['image'].append(icon)\n",
        "\n",
        "pd.DataFrame(famous_books_dict).to_csv('famous.txt', index=False, header=False)"
      ],
      "metadata": {
        "id": "D-xY3PNwP5ua"
      },
      "execution_count": 56,
      "outputs": []
    },
    {
      "cell_type": "code",
      "source": [
        "similarity_matrix = cosine_similarity(item_user_interaction_matrix)\n",
        "np.savetxt('similarity.txt', similarity_matrix, delimiter=',', fmt='%s')"
      ],
      "metadata": {
        "id": "SqQxxx2kogBn"
      },
      "execution_count": 57,
      "outputs": []
    },
    {
      "cell_type": "code",
      "source": [
        "def recommend_books(book_name, top_k=5):\n",
        "  #index fetch\n",
        "  index = np.where(item_user_interaction_matrix.index==book_name)[0][0]\n",
        "  similar_items = sorted(list(enumerate(similarity_matrix[index])), key=lambda x:x[1], reverse=True)[1:top_k+1]\n",
        "\n",
        "  data = []\n",
        "  for i in similar_items:\n",
        "    item = []\n",
        "    temp_df = books_data[books_data['Book-Title'] == item_user_interaction_matrix.index[i[0]]]\n",
        "    item.extend(list(temp_df.drop_duplicates('Book-Title')['Book-Title'].values))\n",
        "    item.extend(list(temp_df.drop_duplicates('Book-Title')['Book-Author'].values))\n",
        "    item.extend(list(temp_df.drop_duplicates('Book-Title')['Image-URL-M'].values))\n",
        "\n",
        "    data.append(item)\n",
        "\n",
        "  return data"
      ],
      "metadata": {
        "id": "NhU55tVCof7O"
      },
      "execution_count": 58,
      "outputs": []
    },
    {
      "cell_type": "code",
      "source": [
        "recommend_books(\"The Hitchhiker's Guide to the Galaxy\", 10)"
      ],
      "metadata": {
        "colab": {
          "base_uri": "https://localhost:8080/"
        },
        "id": "6oT0ulPstBdT",
        "outputId": "cb6688a5-2ea7-4e11-e230-7a9ee18cae05"
      },
      "execution_count": 59,
      "outputs": [
        {
          "output_type": "execute_result",
          "data": {
            "text/plain": [
              "[['The Hours : A Novel',\n",
              "  'Michael Cunningham',\n",
              "  'http://images.amazon.com/images/P/0312243022.01.MZZZZZZZ.jpg'],\n",
              " ['Pet Sematary',\n",
              "  'Stephen King',\n",
              "  'http://images.amazon.com/images/P/0451162072.01.MZZZZZZZ.jpg'],\n",
              " ['Good Omens',\n",
              "  'Neil Gaiman',\n",
              "  'http://images.amazon.com/images/P/0441003257.01.MZZZZZZZ.jpg'],\n",
              " ['I Capture the Castle',\n",
              "  'Dodie Smith',\n",
              "  'http://images.amazon.com/images/P/031231616X.01.MZZZZZZZ.jpg'],\n",
              " ['Zen and the Art of Motorcycle Maintenance: An Inquiry into Values',\n",
              "  'ROBERT PIRSIG',\n",
              "  'http://images.amazon.com/images/P/0553277472.01.MZZZZZZZ.jpg'],\n",
              " ['The Catcher in the Rye',\n",
              "  'J.D. Salinger',\n",
              "  'http://images.amazon.com/images/P/0316769487.01.MZZZZZZZ.jpg'],\n",
              " ['Cujo',\n",
              "  'Stephen King',\n",
              "  'http://images.amazon.com/images/P/8878242357.01.MZZZZZZZ.jpg'],\n",
              " ['The Giver (21st Century Reference)',\n",
              "  'LOIS LOWRY',\n",
              "  'http://images.amazon.com/images/P/0440219078.01.MZZZZZZZ.jpg'],\n",
              " ['The Fellowship of the Ring (The Lord of the Rings, Part 1)',\n",
              "  'J.R.R. TOLKIEN',\n",
              "  'http://images.amazon.com/images/P/0345339703.01.MZZZZZZZ.jpg'],\n",
              " ['Fahrenheit 451',\n",
              "  'Ray Bradbury',\n",
              "  'http://images.amazon.com/images/P/3257208626.01.MZZZZZZZ.jpg']]"
            ]
          },
          "metadata": {},
          "execution_count": 59
        }
      ]
    }
  ]
}